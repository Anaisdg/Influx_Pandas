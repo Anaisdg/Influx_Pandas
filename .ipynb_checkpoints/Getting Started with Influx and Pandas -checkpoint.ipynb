{
 "cells": [
  {
   "cell_type": "markdown",
   "metadata": {},
   "source": [
    "# Getting Started with Influx and Pandas\n",
    "## This is a simple tutorial to get you querying Influx, converting your time series data into a DataFrame, and converting your dataframe back into line protocol using the [Influx Python Client Library](https://github.com/influxdata/influxdb-client-python). "
   ]
  },
  {
   "cell_type": "markdown",
   "metadata": {},
   "source": [
    "### ASSUMPTIONS: you have already configured telegraf to gather system stats on your machine.\n",
    "### CONSIDERATIONS: the conversion to line protocol isn't part of the client. "
   ]
  },
  {
   "cell_type": "markdown",
   "metadata": {},
   "source": [
    "### STEP ONE: import dependencies "
   ]
  },
  {
   "cell_type": "code",
   "execution_count": 50,
   "metadata": {},
   "outputs": [],
   "source": [
    "from influxdb_client import InfluxDBClient\n",
    "import pandas as pd\n",
    "from dataframe_to_line_protocol import lp"
   ]
  },
  {
   "cell_type": "markdown",
   "metadata": {},
   "source": [
    "### STEP TWO: Supply auth parameteres "
   ]
  },
  {
   "cell_type": "code",
   "execution_count": 2,
   "metadata": {},
   "outputs": [],
   "source": [
    "my_token = my-token\n",
    "my_org = \"my-org\"\n",
    "bucket = \"system\""
   ]
  },
  {
   "cell_type": "markdown",
   "metadata": {},
   "source": [
    "### STEP THREE: Write your flux query "
   ]
  },
  {
   "cell_type": "code",
   "execution_count": 3,
   "metadata": {},
   "outputs": [],
   "source": [
    "query='''\n",
    "from(bucket: \"system\")\n",
    "  |> range(start:-5m, stop: now())\n",
    "  |> filter(fn: (r) => r._measurement == \"cpu\")\n",
    "  |> filter(fn: (r) => r._field == \"usage_user\")\n",
    "  |> filter(fn: (r) => r.cpu == \"cpu-total\")\n",
    "'''"
   ]
  },
  {
   "cell_type": "markdown",
   "metadata": {},
   "source": [
    "### STEP FOUR: read data from InfluxDB 2.0 \n"
   ]
  },
  {
   "cell_type": "code",
   "execution_count": 4,
   "metadata": {},
   "outputs": [
    {
     "data": {
      "text/html": [
       "<div>\n",
       "<style scoped>\n",
       "    .dataframe tbody tr th:only-of-type {\n",
       "        vertical-align: middle;\n",
       "    }\n",
       "\n",
       "    .dataframe tbody tr th {\n",
       "        vertical-align: top;\n",
       "    }\n",
       "\n",
       "    .dataframe thead th {\n",
       "        text-align: right;\n",
       "    }\n",
       "</style>\n",
       "<table border=\"1\" class=\"dataframe\">\n",
       "  <thead>\n",
       "    <tr style=\"text-align: right;\">\n",
       "      <th></th>\n",
       "      <th>result</th>\n",
       "      <th>table</th>\n",
       "      <th>_start</th>\n",
       "      <th>_stop</th>\n",
       "      <th>_time</th>\n",
       "      <th>_value</th>\n",
       "      <th>_field</th>\n",
       "      <th>_measurement</th>\n",
       "      <th>cpu</th>\n",
       "      <th>host</th>\n",
       "    </tr>\n",
       "  </thead>\n",
       "  <tbody>\n",
       "    <tr>\n",
       "      <td>0</td>\n",
       "      <td>_result</td>\n",
       "      <td>0</td>\n",
       "      <td>2019-12-10 15:34:13.694865+00:00</td>\n",
       "      <td>2019-12-10 15:39:13.694865+00:00</td>\n",
       "      <td>2019-12-10 15:34:20+00:00</td>\n",
       "      <td>4.463058</td>\n",
       "      <td>usage_user</td>\n",
       "      <td>cpu</td>\n",
       "      <td>cpu-total</td>\n",
       "      <td>Anais.local</td>\n",
       "    </tr>\n",
       "    <tr>\n",
       "      <td>1</td>\n",
       "      <td>_result</td>\n",
       "      <td>0</td>\n",
       "      <td>2019-12-10 15:34:13.694865+00:00</td>\n",
       "      <td>2019-12-10 15:39:13.694865+00:00</td>\n",
       "      <td>2019-12-10 15:34:30+00:00</td>\n",
       "      <td>3.187500</td>\n",
       "      <td>usage_user</td>\n",
       "      <td>cpu</td>\n",
       "      <td>cpu-total</td>\n",
       "      <td>Anais.local</td>\n",
       "    </tr>\n",
       "    <tr>\n",
       "      <td>2</td>\n",
       "      <td>_result</td>\n",
       "      <td>0</td>\n",
       "      <td>2019-12-10 15:34:13.694865+00:00</td>\n",
       "      <td>2019-12-10 15:39:13.694865+00:00</td>\n",
       "      <td>2019-12-10 15:34:40+00:00</td>\n",
       "      <td>3.773585</td>\n",
       "      <td>usage_user</td>\n",
       "      <td>cpu</td>\n",
       "      <td>cpu-total</td>\n",
       "      <td>Anais.local</td>\n",
       "    </tr>\n",
       "    <tr>\n",
       "      <td>3</td>\n",
       "      <td>_result</td>\n",
       "      <td>0</td>\n",
       "      <td>2019-12-10 15:34:13.694865+00:00</td>\n",
       "      <td>2019-12-10 15:39:13.694865+00:00</td>\n",
       "      <td>2019-12-10 15:34:50+00:00</td>\n",
       "      <td>3.302064</td>\n",
       "      <td>usage_user</td>\n",
       "      <td>cpu</td>\n",
       "      <td>cpu-total</td>\n",
       "      <td>Anais.local</td>\n",
       "    </tr>\n",
       "    <tr>\n",
       "      <td>4</td>\n",
       "      <td>_result</td>\n",
       "      <td>0</td>\n",
       "      <td>2019-12-10 15:34:13.694865+00:00</td>\n",
       "      <td>2019-12-10 15:39:13.694865+00:00</td>\n",
       "      <td>2019-12-10 15:35:00+00:00</td>\n",
       "      <td>4.774403</td>\n",
       "      <td>usage_user</td>\n",
       "      <td>cpu</td>\n",
       "      <td>cpu-total</td>\n",
       "      <td>Anais.local</td>\n",
       "    </tr>\n",
       "  </tbody>\n",
       "</table>\n",
       "</div>"
      ],
      "text/plain": [
       "    result table                            _start  \\\n",
       "0  _result     0  2019-12-10 15:34:13.694865+00:00   \n",
       "1  _result     0  2019-12-10 15:34:13.694865+00:00   \n",
       "2  _result     0  2019-12-10 15:34:13.694865+00:00   \n",
       "3  _result     0  2019-12-10 15:34:13.694865+00:00   \n",
       "4  _result     0  2019-12-10 15:34:13.694865+00:00   \n",
       "\n",
       "                              _stop                      _time    _value  \\\n",
       "0  2019-12-10 15:39:13.694865+00:00  2019-12-10 15:34:20+00:00  4.463058   \n",
       "1  2019-12-10 15:39:13.694865+00:00  2019-12-10 15:34:30+00:00  3.187500   \n",
       "2  2019-12-10 15:39:13.694865+00:00  2019-12-10 15:34:40+00:00  3.773585   \n",
       "3  2019-12-10 15:39:13.694865+00:00  2019-12-10 15:34:50+00:00  3.302064   \n",
       "4  2019-12-10 15:39:13.694865+00:00  2019-12-10 15:35:00+00:00  4.774403   \n",
       "\n",
       "       _field _measurement        cpu         host  \n",
       "0  usage_user          cpu  cpu-total  Anais.local  \n",
       "1  usage_user          cpu  cpu-total  Anais.local  \n",
       "2  usage_user          cpu  cpu-total  Anais.local  \n",
       "3  usage_user          cpu  cpu-total  Anais.local  \n",
       "4  usage_user          cpu  cpu-total  Anais.local  "
      ]
     },
     "metadata": {},
     "output_type": "display_data"
    }
   ],
   "source": [
    "client = InfluxDBClient(url=\"http://localhost:9999\", token=my_token, org=my_org, debug=False)\n",
    "\n",
    "system_stats = client.query_api().query_data_frame(org=my_org, query=query)\n",
    "display(system_stats.head())"
   ]
  },
  {
   "cell_type": "markdown",
   "metadata": {},
   "source": [
    "### STEP FIVE: convert to line protocol \n"
   ]
  },
  {
   "cell_type": "code",
   "execution_count": 53,
   "metadata": {},
   "outputs": [
    {
     "data": {
      "text/plain": [
       "['cpu,cpu=cpu-total usage_user=4.4630578822352795 1576013660000000000',\n",
       " 'cpu,cpu=cpu-total usage_user=3.1875 1576013670000000000',\n",
       " 'cpu,cpu=cpu-total usage_user=3.7735849056603774 1576013680000000000',\n",
       " 'cpu,cpu=cpu-total usage_user=3.3020637898686678 1576013690000000000',\n",
       " 'cpu,cpu=cpu-total usage_user=4.77440319960005 1576013700000000000']"
      ]
     },
     "execution_count": 53,
     "metadata": {},
     "output_type": "execute_result"
    }
   ],
   "source": [
    "lines = lp(system_stats,\"_measurement\",\"cpu\",\"_field\",\"_value\",\"_time\")\n",
    "lines[0:5]"
   ]
  },
  {
   "cell_type": "code",
   "execution_count": null,
   "metadata": {},
   "outputs": [],
   "source": [
    "from influxdb_client import InfluxDBClient, Point, WriteOptions\n",
    "from influxdb_client.client.write_api import SYNCHRONOUS\n",
    "\n",
    "_write_client = client.write_api(write_options=WriteOptions(batch_size=1000, \n",
    "                                                            flush_interval=10_000,\n",
    "                                                            jitter_interval=2_000,\n",
    "                                                            retry_interval=5_000))\n",
    "\n",
    "_write_client.write(bucket, my_org, lines)"
   ]
  },
  {
   "cell_type": "code",
   "execution_count": 47,
   "metadata": {},
   "outputs": [],
   "source": [
    "#To close the client \n",
    "_write_client.__del__()\n",
    "client.__del__()"
   ]
  }
 ],
 "metadata": {
  "kernelspec": {
   "display_name": "Python 3",
   "language": "python",
   "name": "python3"
  },
  "language_info": {
   "codemirror_mode": {
    "name": "ipython",
    "version": 3
   },
   "file_extension": ".py",
   "mimetype": "text/x-python",
   "name": "python",
   "nbconvert_exporter": "python",
   "pygments_lexer": "ipython3",
   "version": "3.6.9"
  }
 },
 "nbformat": 4,
 "nbformat_minor": 2
}
